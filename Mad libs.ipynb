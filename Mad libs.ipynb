{
 "cells": [
  {
   "cell_type": "code",
   "execution_count": 5,
   "metadata": {},
   "outputs": [
    {
     "name": "stdout",
     "output_type": "stream",
     "text": [
      "Welcome to the Mad Lip Games\n",
      "i was running for the big red London bus\n",
      "while running i tripped and landed in the arms\n",
      "of a gentlman with the rarest and statistically most attractive light hazel greenish eyes\n",
      "how true is that story?\n",
      " was running for the big red London bus\n",
      "while running i  and landed in the arms\n",
      "of a gentlman with the rarest and statistically most attractive light hazel  eyes\n",
      "how true is that story?\n"
     ]
    }
   ],
   "source": [
    "print('Welcome to the Mad Lip Games')\n",
    "\n",
    "def main():\n",
    "    noun = str(input('please enter a noun: '))\n",
    "    action = str(input('please enter a action'))\n",
    "    colour = str(input('please enter a colour'))\n",
    "\n",
    "    print(noun, 'was running for the big red London bus')\n",
    "    print('while running i', action, 'and landed in the arms')\n",
    "    print('of a gentlman with the rarest and statistically most attractive light hazel', colour, 'eyes') \n",
    "    print('how true is that story?')\n",
    "    restart\n",
    "\n",
    "\n",
    "def restart():\n",
    "    retell = str(input('would you like me to retell the story again? (y/n):'))\n",
    "    if retell == 'y':\n",
    "        main()\n",
    "    \n",
    "    elif retell == 'n':\n",
    "        print('good bye!')\n",
    "        quit()\n",
    "    else:\n",
    "        print('please enter a correct input')\n",
    "        restart\n",
    "\n",
    "while True:\n",
    "    main()\n"
   ]
  },
  {
   "cell_type": "code",
   "execution_count": null,
   "metadata": {},
   "outputs": [],
   "source": [
    "print('Welcome to the Mad Lip Games')\n",
    "\n",
    "def main():\n",
    "    noun = str(input('please enter a noun: '))\n",
    "    action = str(input('please enter a action'))\n",
    "    colour = str(input('please enter a colour'))\n",
    "\n",
    "    print(noun, 'was running for the big red London bus')\n",
    "    print('while running i', action, 'and landed in the arms')\n",
    "    print('of a gentlman with the rarest and statistically most attractive light hazel', colour, 'eyes') \n",
    "    print('how true is that story?')\n",
    "    restart\n",
    "\n",
    "\n",
    "def restart():\n",
    "    retell = str(input('would you like me to retell the story again? (y/n):'))\n",
    "    if retell == 'y':\n",
    "        main()\n",
    "    \n",
    "    elif retell == 'n':\n",
    "        print('good bye!')\n",
    "        quit()\n",
    "    else:\n",
    "        print('please enter a correct input')\n",
    "        restart\n",
    "\n",
    "while True:\n",
    "    main()"
   ]
  }
 ],
 "metadata": {
  "kernelspec": {
   "display_name": "Python 3.10.7 64-bit",
   "language": "python",
   "name": "python3"
  },
  "language_info": {
   "codemirror_mode": {
    "name": "ipython",
    "version": 3
   },
   "file_extension": ".py",
   "mimetype": "text/x-python",
   "name": "python",
   "nbconvert_exporter": "python",
   "pygments_lexer": "ipython3",
   "version": "3.10.7"
  },
  "orig_nbformat": 4,
  "vscode": {
   "interpreter": {
    "hash": "63963b3f4c440940f0b94a3100916033a226cb4f45979123153792d60aa56d6a"
   }
  }
 },
 "nbformat": 4,
 "nbformat_minor": 2
}
